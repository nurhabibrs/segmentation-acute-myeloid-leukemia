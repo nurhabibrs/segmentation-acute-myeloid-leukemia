{
 "cells": [
  {
   "cell_type": "markdown",
   "metadata": {},
   "source": [
    "## Import Library"
   ]
  },
  {
   "cell_type": "code",
   "execution_count": 1,
   "metadata": {},
   "outputs": [],
   "source": [
    "import pandas as pd\n",
    "from glob import glob\n",
    "import os\n",
    "import cv2"
   ]
  },
  {
   "cell_type": "markdown",
   "metadata": {},
   "source": [
    "## Bounding Box Mask and Predict Mask"
   ]
  },
  {
   "cell_type": "code",
   "execution_count": 2,
   "metadata": {},
   "outputs": [],
   "source": [
    "def bounding_box(ftr=None, fold=None, full_img=None, mask=None):\n",
    "    \n",
    "    for i in range(len(full_img)):\n",
    "        name = full_img[i].split(\"/\")[-1].split(\".\")[0]\n",
    "                \n",
    "        # Load the segmented image\n",
    "        segmented_image = cv2.imread(full_img[i], cv2.IMREAD_COLOR)\n",
    "\n",
    "        if segmented_image is None:\n",
    "            raise ValueError(f\"Unable to load image because the image is None.\")\n",
    "\n",
    "        # Convert the segmented image to grayscale\n",
    "        gray_segmented_image = cv2.cvtColor(segmented_image, cv2.COLOR_BGR2GRAY)\n",
    "\n",
    "        # Find contours in the grayscale segmented image\n",
    "        contours, _ = cv2.findContours(gray_segmented_image, cv2.RETR_EXTERNAL, cv2.CHAIN_APPROX_SIMPLE)\n",
    "\n",
    "        # Draw bounding boxes around the segmented objects\n",
    "        for contour in contours:\n",
    "            x, y, w, h = cv2.boundingRect(contour)\n",
    "            cv2.rectangle(segmented_image, (x, y), (x + w, y + h), (0, 255, 75), 2)  # Draw a green rectangle\n",
    "\n",
    "        if mask == True:\n",
    "            # Save or display the result\n",
    "            cv2.imwrite(f\"./Filter {ftr}/results/fold{fold}/merge_box_mask/{name}.png\", segmented_image)\n",
    "        else:\n",
    "            cv2.imwrite(f\"./Filter {ftr}/results/fold{fold}/merge_box_pred/{name}.png\", segmented_image)\n",
    "            # cv2.imshow('Segmented Image with Bounding Boxes', segmented_image)\n",
    "            # cv2.waitKey(0)\n",
    "            # cv2.destroyAllWindows()"
   ]
  },
  {
   "cell_type": "code",
   "execution_count": 3,
   "metadata": {},
   "outputs": [],
   "source": [
    "filters = [64, 128, 256]\n",
    "\n",
    "for ftr in filters:\n",
    "    for fold in range(5):\n",
    "        fold = fold + 1\n",
    "            \n",
    "        filter_64 = pd.DataFrame({\n",
    "            'pred_image_path': sorted(glob(os.path.join(f\"./Filter {ftr}/results/fold{fold}/merge_prediction/\", \"*.png\"))),\n",
    "            'mask_image_path': sorted(glob(os.path.join(f\"./Filter {ftr}/results/fold{fold}/merge_mask/\", \"*.png\"))),\n",
    "        })\n",
    "            \n",
    "        filter_128 = pd.DataFrame({\n",
    "            'pred_image_path': sorted(glob(os.path.join(f\"./Filter {ftr}/results/fold{fold}/merge_prediction/\", \"*.png\"))),\n",
    "            'mask_image_path': sorted(glob(os.path.join(f\"./Filter {ftr}/results/fold{fold}/merge_mask/\", \"*.png\"))),\n",
    "        })\n",
    "            \n",
    "        filter_256 = pd.DataFrame({\n",
    "            'pred_image_path': sorted(glob(os.path.join(f\"./Filter {ftr}/results/fold{fold}/merge_prediction/\", \"*.png\"))),\n",
    "            'mask_image_path': sorted(glob(os.path.join(f\"./Filter {ftr}/results/fold{fold}/merge_mask/\", \"*.png\"))),\n",
    "        })\n",
    "        \n",
    "        bounding_box(ftr=ftr, fold=fold, full_img=filter_64['mask_image_path'], mask=True)\n",
    "        bounding_box(ftr=ftr, fold=fold, full_img=filter_64['pred_image_path'], mask=False)\n",
    "        bounding_box(ftr=ftr, fold=fold, full_img=filter_128['mask_image_path'], mask=True)\n",
    "        bounding_box(ftr=ftr, fold=fold, full_img=filter_128['pred_image_path'], mask=False)\n",
    "        bounding_box(ftr=ftr, fold=fold, full_img=filter_256['mask_image_path'], mask=True)\n",
    "        bounding_box(ftr=ftr, fold=fold, full_img=filter_256['pred_image_path'], mask=False)"
   ]
  },
  {
   "cell_type": "markdown",
   "metadata": {},
   "source": [
    "## Bounding Box Masked Image (Predict Mask Merge with Original Image)"
   ]
  },
  {
   "cell_type": "code",
   "execution_count": 5,
   "metadata": {},
   "outputs": [],
   "source": [
    "def bounding_box_masked(ftr=None, fold=None, full_img=None):\n",
    "    \n",
    "    for i in range(len(full_img)):\n",
    "        name = full_img[i].split(\"/\")[-1].split(\".\")[0]\n",
    "                \n",
    "        # Load the segmented image\n",
    "        segmented_image = cv2.imread(full_img[i], cv2.IMREAD_COLOR)\n",
    "\n",
    "        if segmented_image is None:\n",
    "            raise ValueError(f\"Unable to load image because the image is None.\")\n",
    "\n",
    "        # Convert the segmented image to grayscale\n",
    "        gray_segmented_image = cv2.cvtColor(segmented_image, cv2.COLOR_BGR2GRAY)\n",
    "\n",
    "        # Find contours in the grayscale segmented image\n",
    "        contours, _ = cv2.findContours(gray_segmented_image, cv2.RETR_EXTERNAL, cv2.CHAIN_APPROX_SIMPLE)\n",
    "\n",
    "        # Draw bounding boxes around the segmented objects\n",
    "        for contour in contours:\n",
    "            x, y, w, h = cv2.boundingRect(contour)\n",
    "            cv2.rectangle(segmented_image, (x, y), (x + w, y + h), (0, 255, 75), 2)  # Draw a green rectangle\n",
    "\n",
    "        # Save or display the result\n",
    "        cv2.imwrite(f\"./Filter {ftr}/results/fold{fold}/merge_box_masked/{name}.png\", segmented_image)\n",
    "            # cv2.imshow('Segmented Image with Bounding Boxes', segmented_image)\n",
    "            # cv2.waitKey(0)\n",
    "            # cv2.destroyAllWindows()"
   ]
  },
  {
   "cell_type": "code",
   "execution_count": 6,
   "metadata": {},
   "outputs": [],
   "source": [
    "filters = [64, 128, 256]\n",
    "\n",
    "for ftr in filters:\n",
    "    for fold in range(5):\n",
    "        fold = fold + 1\n",
    "            \n",
    "        filter_64 = pd.DataFrame({\n",
    "            'masked_image_path': sorted(glob(os.path.join(f\"./Filter {ftr}/results/fold{fold}/merge_masked/\", \"*.png\"))),\n",
    "        })\n",
    "            \n",
    "        filter_128 = pd.DataFrame({\n",
    "            'masked_image_path': sorted(glob(os.path.join(f\"./Filter {ftr}/results/fold{fold}/merge_masked/\", \"*.png\"))),\n",
    "        })\n",
    "            \n",
    "        filter_256 = pd.DataFrame({\n",
    "            'masked_image_path': sorted(glob(os.path.join(f\"./Filter {ftr}/results/fold{fold}/merge_masked/\", \"*.png\"))),\n",
    "        })\n",
    "        \n",
    "        bounding_box_masked(ftr=ftr, fold=fold, full_img=filter_64['masked_image_path'])\n",
    "\n",
    "        bounding_box_masked(ftr=ftr, fold=fold, full_img=filter_128['masked_image_path'])\n",
    "   \n",
    "        bounding_box_masked(ftr=ftr, fold=fold, full_img=filter_256['masked_image_path'])\n"
   ]
  }
 ],
 "metadata": {
  "kernelspec": {
   "display_name": "test-env",
   "language": "python",
   "name": "python3"
  },
  "language_info": {
   "codemirror_mode": {
    "name": "ipython",
    "version": 3
   },
   "file_extension": ".py",
   "mimetype": "text/x-python",
   "name": "python",
   "nbconvert_exporter": "python",
   "pygments_lexer": "ipython3",
   "version": "3.9.16"
  },
  "orig_nbformat": 4
 },
 "nbformat": 4,
 "nbformat_minor": 2
}
